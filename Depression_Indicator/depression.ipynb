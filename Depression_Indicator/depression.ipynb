{
 "cells": [
  {
   "attachments": {},
   "cell_type": "markdown",
   "metadata": {},
   "source": [
    "# Import "
   ]
  },
  {
   "cell_type": "code",
   "execution_count": 145,
   "metadata": {},
   "outputs": [],
   "source": [
    "import pandas as pd\n",
    "# Library for visualization\n",
    "import seaborn as sns\n",
    "import matplotlib.pyplot as plt\n",
    "# Library for feature selection\n",
    "from sklearn.feature_selection import RFE\n",
    "from sklearn.tree import DecisionTreeClassifier\n",
    "# Useful library for linear algebra functions\n",
    "import numpy as np\n",
    "# Library for data splitting\n",
    "from sklearn.model_selection import train_test_split\n",
    "# Library for performance analysis\n",
    "from sklearn.metrics import accuracy_score, confusion_matrix\n",
    "# import SVC classifier\n",
    "from sklearn.svm import SVC\n",
    "# Import package\n",
    "import os\n",
    "# To save to and load model from the file\n",
    "import pickle"
   ]
  },
  {
   "attachments": {},
   "cell_type": "markdown",
   "metadata": {},
   "source": [
    "# Load Data"
   ]
  },
  {
   "cell_type": "code",
   "execution_count": 146,
   "metadata": {},
   "outputs": [],
   "source": [
    "data = pd.read_excel('ML-DataSet.xlsx')"
   ]
  },
  {
   "cell_type": "code",
   "execution_count": 147,
   "metadata": {},
   "outputs": [],
   "source": [
    "df = pd.DataFrame(data)"
   ]
  },
  {
   "cell_type": "code",
   "execution_count": 148,
   "metadata": {},
   "outputs": [
    {
     "data": {
      "text/plain": [
       "f_id                                0\n",
       "part1_country                       0\n",
       "Locality_first                      0\n",
       "part1_current_preg_first            0\n",
       "Anxietyrec1                      2474\n",
       "Anxietyrec2                      2474\n",
       "Anxietyrec3                      1975\n",
       "Anxietyrec4                      1974\n",
       "Anxietyrec5                      1976\n",
       "Anxietyrec6                      1982\n",
       "Anxietyrec7                      1975\n",
       "DepressionRec1                   1985\n",
       "DepressionRec2                   1990\n",
       "DepressionRec3                   1988\n",
       "DepressionRec4                   1984\n",
       "DepressionRec5                   1983\n",
       "DepressionRec6                   1984\n",
       "DepressionRec7                   1987\n",
       "DepressionRec8                   1989\n",
       "Depressionec9                    1987\n",
       "GAD_7_Anxiety_score_Cat_first    1855\n",
       "PHQ_9_Depression_Score_first     1968\n",
       "AnxietyCat_first                 1855\n",
       "DepressionCat_first              1968\n",
       "WomenAge                            0\n",
       "MariageAge                          0\n",
       "NumberofPregnancy                   2\n",
       "NumberofAbortions                   4\n",
       "EducationLevel                      0\n",
       "Work                                0\n",
       "CovidDiagL1                         0\n",
       "CovidDiagL2                         0\n",
       "Health_Prob                         0\n",
       "StressduringCovid                   0\n",
       "FamilyProblems                      0\n",
       "FinancialProblem                    0\n",
       "SocialProblem                       0\n",
       "PsychologicalProb                   0\n",
       "WorkStress                          0\n",
       "FamilyIncome1                       0\n",
       "SleepingAfter                       0\n",
       "BMI_Pregnancy                     537\n",
       "BMI_Postpartum                   2219\n",
       "Food_Group_Adher_During_CAT      2199\n",
       "Physical_activity_During_Cat     1474\n",
       "Smoker_During_preg_Cat           1860\n",
       "Anxeity_Rec                         0\n",
       "Depression_Rec1                     0\n",
       "dtype: int64"
      ]
     },
     "execution_count": 148,
     "metadata": {},
     "output_type": "execute_result"
    }
   ],
   "source": [
    "# check for missing values in variables\n",
    "noOfNullValue = df.isnull().sum()\n",
    "noOfNullValue"
   ]
  },
  {
   "cell_type": "code",
   "execution_count": 149,
   "metadata": {},
   "outputs": [
    {
     "data": {
      "text/plain": [
       "f_id                             0\n",
       "part1_country                    0\n",
       "Locality_first                   0\n",
       "part1_current_preg_first         0\n",
       "Anxietyrec1                      0\n",
       "Anxietyrec2                      0\n",
       "Anxietyrec3                      0\n",
       "Anxietyrec4                      0\n",
       "Anxietyrec5                      0\n",
       "Anxietyrec6                      0\n",
       "Anxietyrec7                      0\n",
       "DepressionRec1                   0\n",
       "DepressionRec2                   0\n",
       "DepressionRec3                   0\n",
       "DepressionRec4                   0\n",
       "DepressionRec5                   0\n",
       "DepressionRec6                   0\n",
       "DepressionRec7                   0\n",
       "DepressionRec8                   0\n",
       "Depressionec9                    0\n",
       "GAD_7_Anxiety_score_Cat_first    0\n",
       "PHQ_9_Depression_Score_first     0\n",
       "AnxietyCat_first                 0\n",
       "DepressionCat_first              0\n",
       "WomenAge                         0\n",
       "MariageAge                       0\n",
       "NumberofPregnancy                0\n",
       "NumberofAbortions                0\n",
       "EducationLevel                   0\n",
       "Work                             0\n",
       "CovidDiagL1                      0\n",
       "CovidDiagL2                      0\n",
       "Health_Prob                      0\n",
       "StressduringCovid                0\n",
       "FamilyProblems                   0\n",
       "FinancialProblem                 0\n",
       "SocialProblem                    0\n",
       "PsychologicalProb                0\n",
       "WorkStress                       0\n",
       "FamilyIncome1                    0\n",
       "SleepingAfter                    0\n",
       "BMI_Pregnancy                    0\n",
       "BMI_Postpartum                   0\n",
       "Food_Group_Adher_During_CAT      0\n",
       "Physical_activity_During_Cat     0\n",
       "Smoker_During_preg_Cat           0\n",
       "Anxeity_Rec                      0\n",
       "Depression_Rec1                  0\n",
       "dtype: int64"
      ]
     },
     "execution_count": 149,
     "metadata": {},
     "output_type": "execute_result"
    }
   ],
   "source": [
    "#Repalce NaN with zero on all columns \n",
    "df2 = df.fillna(0)\n",
    "df2.isnull().sum()"
   ]
  },
  {
   "cell_type": "code",
   "execution_count": 150,
   "metadata": {},
   "outputs": [],
   "source": [
    "df3 = df2.drop(columns=['f_id','part1_country','Locality_first', 'Anxietyrec1', 'Anxietyrec2', 'Anxietyrec3', 'Anxietyrec4', 'Anxietyrec5', 'Anxietyrec6', 'Anxietyrec7', 'DepressionRec1', 'DepressionRec2', 'DepressionRec3', 'DepressionRec4', 'DepressionRec5', 'DepressionRec6', 'DepressionRec7', 'DepressionRec8', 'Depressionec9', 'GAD_7_Anxiety_score_Cat_first', 'PHQ_9_Depression_Score_first', 'AnxietyCat_first', 'DepressionCat_first','CovidDiagL1', 'CovidDiagL2', 'StressduringCovid', 'BMI_Postpartum','Anxeity_Rec','BMI_Postpartum'])"
   ]
  },
  {
   "cell_type": "code",
   "execution_count": null,
   "metadata": {},
   "outputs": [],
   "source": []
  },
  {
   "attachments": {},
   "cell_type": "markdown",
   "metadata": {},
   "source": [
    "## Splitting Data"
   ]
  },
  {
   "cell_type": "code",
   "execution_count": 151,
   "metadata": {},
   "outputs": [],
   "source": [
    "#Split the dataset into X and y\n",
    "X_data = df3.drop(columns=['Depression_Rec1'])\n",
    "y_data = df3[['Depression_Rec1']]"
   ]
  },
  {
   "cell_type": "code",
   "execution_count": 152,
   "metadata": {},
   "outputs": [
    {
     "name": "stdout",
     "output_type": "stream",
     "text": [
      "[1 2 3]\n"
     ]
    }
   ],
   "source": [
    "distinct_values = y_data['Depression_Rec1'].unique()\n",
    "print(distinct_values)"
   ]
  },
  {
   "attachments": {},
   "cell_type": "markdown",
   "metadata": {},
   "source": [
    "# Data Exploration"
   ]
  },
  {
   "attachments": {},
   "cell_type": "markdown",
   "metadata": {},
   "source": [
    "## Feature"
   ]
  },
  {
   "cell_type": "code",
   "execution_count": 153,
   "metadata": {},
   "outputs": [
    {
     "data": {
      "text/plain": [
       "19"
      ]
     },
     "execution_count": 153,
     "metadata": {},
     "output_type": "execute_result"
    }
   ],
   "source": [
    "# obtain the feature list after removing unused features\n",
    "features = [f for f in df3.columns if f not in ['Depression_Rec1']]\n",
    "len(features)"
   ]
  },
  {
   "attachments": {},
   "cell_type": "markdown",
   "metadata": {},
   "source": [
    "# Model and Training "
   ]
  },
  {
   "attachments": {},
   "cell_type": "markdown",
   "metadata": {},
   "source": [
    "## Feature Selection "
   ]
  },
  {
   "cell_type": "code",
   "execution_count": 154,
   "metadata": {},
   "outputs": [
    {
     "name": "stdout",
     "output_type": "stream",
     "text": [
      "Number of features selected: 15\n",
      "Selected features: [ True  True  True  True  True  True  True False False  True False  True\n",
      " False  True  True  True  True  True  True]\n",
      "Ranking of features: [1 1 1 1 1 1 1 3 2 1 5 1 4 1 1 1 1 1 1]\n"
     ]
    }
   ],
   "source": [
    "# Feature selection using Recursive Feature Elimination (RFE)\n",
    "rfe = RFE(estimator=DecisionTreeClassifier(), n_features_to_select=15)\n",
    "fit = rfe.fit(X_data, y_data)\n",
    "print(\"Number of features selected: %s\" % (fit.n_features_))\n",
    "print(\"Selected features: %s\" % (fit.support_))\n",
    "print(\"Ranking of features: %s\" % (fit.ranking_))"
   ]
  },
  {
   "cell_type": "code",
   "execution_count": 155,
   "metadata": {},
   "outputs": [
    {
     "name": "stdout",
     "output_type": "stream",
     "text": [
      "['part1_current_preg_first', 'WomenAge', 'MariageAge', 'NumberofPregnancy', 'NumberofAbortions', 'EducationLevel', 'Work', 'FinancialProblem', 'PsychologicalProb', 'FamilyIncome1', 'SleepingAfter', 'BMI_Pregnancy', 'Food_Group_Adher_During_CAT', 'Physical_activity_During_Cat', 'Smoker_During_preg_Cat']\n"
     ]
    }
   ],
   "source": [
    "# Obtain the list of features selected\n",
    "final_features = []\n",
    "indexes = np.where(fit.support_ == True)\n",
    "for x in np.nditer(indexes):\n",
    "    final_features.append(features[x])\n",
    "print(final_features)"
   ]
  },
  {
   "attachments": {},
   "cell_type": "markdown",
   "metadata": {},
   "source": [
    "## Splitting data with selected features"
   ]
  },
  {
   "cell_type": "code",
   "execution_count": 156,
   "metadata": {},
   "outputs": [],
   "source": [
    "X_data = df2[final_features]\n",
    "\n",
    "# Splitting data into 80% training and 20% testing sets, random_state = 24\n",
    "x_train, x_test, y_train, y_test = train_test_split(X_data, y_data, test_size = 0.2, random_state = 24)"
   ]
  },
  {
   "cell_type": "code",
   "execution_count": 157,
   "metadata": {},
   "outputs": [
    {
     "data": {
      "text/plain": [
       "(2855, 1)"
      ]
     },
     "execution_count": 157,
     "metadata": {},
     "output_type": "execute_result"
    }
   ],
   "source": [
    "y_train.shape"
   ]
  },
  {
   "cell_type": "code",
   "execution_count": 158,
   "metadata": {},
   "outputs": [
    {
     "data": {
      "text/plain": [
       "((2855, 15), (714, 15))"
      ]
     },
     "execution_count": 158,
     "metadata": {},
     "output_type": "execute_result"
    }
   ],
   "source": [
    "# check the shape of X_train and X_test dataset\n",
    "x_train.shape, x_test.shape"
   ]
  },
  {
   "attachments": {},
   "cell_type": "markdown",
   "metadata": {},
   "source": [
    "## Model Training"
   ]
  },
  {
   "attachments": {},
   "cell_type": "markdown",
   "metadata": {},
   "source": [
    "### Support-vector machine model\n",
    "Use support vector classifier with different kernels, choose the one with the highest accuracy to be our model"
   ]
  },
  {
   "attachments": {},
   "cell_type": "markdown",
   "metadata": {},
   "source": [
    "### Support-vector classifer with rbf kernel"
   ]
  },
  {
   "cell_type": "code",
   "execution_count": 159,
   "metadata": {},
   "outputs": [
    {
     "name": "stderr",
     "output_type": "stream",
     "text": [
      "c:\\Users\\Huawei\\anaconda3\\lib\\site-packages\\sklearn\\utils\\validation.py:1143: DataConversionWarning: A column-vector y was passed when a 1d array was expected. Please change the shape of y to (n_samples, ), for example using ravel().\n",
      "  y = column_or_1d(y, warn=True)\n"
     ]
    },
    {
     "name": "stdout",
     "output_type": "stream",
     "text": [
      "Model accuracy score with default hyperparameters (rbf kernel): 0.8165\n"
     ]
    }
   ],
   "source": [
    "# instantiate classifier with default hyperparameters (rbf kernel)\n",
    "svc = SVC(probability=True)\n",
    "\n",
    "# fit classifier to training set\n",
    "svc.fit(x_train, y_train)\n",
    "\n",
    "# make predictions on test set\n",
    "y_pred_svc = svc.predict(x_test)\n",
    "\n",
    "# Get probability from test set\n",
    "pred_prob_svc = svc.predict_proba(x_test)\n",
    "\n",
    "# compute and print accuracy score\n",
    "accuracy_svc = round(accuracy_score(y_test, y_pred_svc), 4)\n",
    "model_accuracy = {}\n",
    "model_accuracy[svc] = accuracy_svc\n",
    "print('Model accuracy score with default hyperparameters (rbf kernel):', accuracy_svc)"
   ]
  },
  {
   "cell_type": "code",
   "execution_count": 160,
   "metadata": {},
   "outputs": [
    {
     "name": "stderr",
     "output_type": "stream",
     "text": [
      "c:\\Users\\Huawei\\anaconda3\\lib\\site-packages\\sklearn\\utils\\validation.py:1143: DataConversionWarning: A column-vector y was passed when a 1d array was expected. Please change the shape of y to (n_samples, ), for example using ravel().\n",
      "  y = column_or_1d(y, warn=True)\n"
     ]
    },
    {
     "name": "stdout",
     "output_type": "stream",
     "text": [
      "Model accuracy score with linear kernel: 0.8165\n"
     ]
    }
   ],
   "source": [
    "# instantiate classifier with linear kernel and C=1.0\n",
    "linear_svc = SVC(kernel='linear', C=1.0, probability=True)\n",
    "\n",
    "# fit classifier to training set\n",
    "linear_svc.fit(x_train, y_train)\n",
    "\n",
    "# make predictions on test set\n",
    "y_pred_linear = linear_svc.predict(x_test)\n",
    "\n",
    "# Get probability from test set\n",
    "pred_prob_linear = linear_svc.predict_proba(x_test)\n",
    "\n",
    "# compute and print accuracy score\n",
    "accuracy_linear = round(accuracy_score(y_test, y_pred_linear), 4)\n",
    "model_accuracy[linear_svc] = accuracy_linear\n",
    "print('Model accuracy score with linear kernel:', accuracy_linear)"
   ]
  },
  {
   "cell_type": "code",
   "execution_count": 161,
   "metadata": {},
   "outputs": [],
   "source": [
    "# To find confusion matrix for the classification model\n",
    "def getConfusionMatrix(y_test, y_pred): \n",
    "  matrix = confusion_matrix(y_test, y_pred)\n",
    "  print(\"Confusion Matrix: \\n\", matrix, \"\\n\")\n",
    "  # To visualize the confusion matrix using a heatmap\n",
    " \n",
    "  plt.figure(figsize=(10, 5))\n",
    "  heatmap = sns.heatmap(matrix, annot=True, fmt='g')\n",
    "  heatmap.yaxis.set_ticklabels(heatmap.yaxis.get_ticklabels())\n",
    "  heatmap.xaxis.set_ticklabels(heatmap.xaxis.get_ticklabels())\n",
    "  plt.ylabel('Actual label')\n",
    "  plt.xlabel('Predicted label')\n",
    "  plt.title('Confusion Matrix')\n",
    "  plt.show()   "
   ]
  },
  {
   "cell_type": "code",
   "execution_count": 162,
   "metadata": {},
   "outputs": [
    {
     "name": "stdout",
     "output_type": "stream",
     "text": [
      "Confusion Matrix: \n",
      " [[583   0   0]\n",
      " [ 71   0   0]\n",
      " [ 60   0   0]] \n",
      "\n"
     ]
    },
    {
     "data": {
      "image/png": "[encoded data removed]",
      "text/plain": [
       "<Figure size 1000x500 with 2 Axes>"
      ]
     },
     "metadata": {},
     "output_type": "display_data"
    }
   ],
   "source": [
    "getConfusionMatrix(y_test, y_pred_svc)"
   ]
  },
  {
   "cell_type": "code",
   "execution_count": 163,
   "metadata": {},
   "outputs": [
    {
     "name": "stdout",
     "output_type": "stream",
     "text": [
      "Confusion Matrix: \n",
      " [[583   0   0]\n",
      " [ 71   0   0]\n",
      " [ 60   0   0]] \n",
      "\n"
     ]
    },
    {
     "data": {
      "image/png": "[encoded data removed]",
      "text/plain": [
       "<Figure size 1000x500 with 2 Axes>"
      ]
     },
     "metadata": {},
     "output_type": "display_data"
    }
   ],
   "source": [
    "getConfusionMatrix(y_test, y_pred_linear)"
   ]
  },
  {
   "attachments": {},
   "cell_type": "markdown",
   "metadata": {},
   "source": [
    "## Determine the best model\n",
    "Compare the accuracy score of the models and choose the best model"
   ]
  },
  {
   "cell_type": "code",
   "execution_count": 164,
   "metadata": {},
   "outputs": [
    {
     "data": {
      "text/html": [
       "<style>#sk-container-id-4 {color: black;background-color: white;}#sk-container-id-4 pre{padding: 0;}#sk-container-id-4 div.sk-toggleable {background-color: white;}#sk-container-id-4 label.sk-toggleable__label {cursor: pointer;display: block;width: 100%;margin-bottom: 0;padding: 0.3em;box-sizing: border-box;text-align: center;}#sk-container-id-4 label.sk-toggleable__label-arrow:before {content: \"▸\";float: left;margin-right: 0.25em;color: #696969;}#sk-container-id-4 label.sk-toggleable__label-arrow:hover:before {color: black;}#sk-container-id-4 div.sk-estimator:hover label.sk-toggleable__label-arrow:before {color: black;}#sk-container-id-4 div.sk-toggleable__content {max-height: 0;max-width: 0;overflow: hidden;text-align: left;background-color: #f0f8ff;}#sk-container-id-4 div.sk-toggleable__content pre {margin: 0.2em;color: black;border-radius: 0.25em;background-color: #f0f8ff;}#sk-container-id-4 input.sk-toggleable__control:checked~div.sk-toggleable__content {max-height: 200px;max-width: 100%;overflow: auto;}#sk-container-id-4 input.sk-toggleable__control:checked~label.sk-toggleable__label-arrow:before {content: \"▾\";}#sk-container-id-4 div.sk-estimator input.sk-toggleable__control:checked~label.sk-toggleable__label {background-color: #d4ebff;}#sk-container-id-4 div.sk-label input.sk-toggleable__control:checked~label.sk-toggleable__label {background-color: #d4ebff;}#sk-container-id-4 input.sk-hidden--visually {border: 0;clip: rect(1px 1px 1px 1px);clip: rect(1px, 1px, 1px, 1px);height: 1px;margin: -1px;overflow: hidden;padding: 0;position: absolute;width: 1px;}#sk-container-id-4 div.sk-estimator {font-family: monospace;background-color: #f0f8ff;border: 1px dotted black;border-radius: 0.25em;box-sizing: border-box;margin-bottom: 0.5em;}#sk-container-id-4 div.sk-estimator:hover {background-color: #d4ebff;}#sk-container-id-4 div.sk-parallel-item::after {content: \"\";width: 100%;border-bottom: 1px solid gray;flex-grow: 1;}#sk-container-id-4 div.sk-label:hover label.sk-toggleable__label {background-color: #d4ebff;}#sk-container-id-4 div.sk-serial::before {content: \"\";position: absolute;border-left: 1px solid gray;box-sizing: border-box;top: 0;bottom: 0;left: 50%;z-index: 0;}#sk-container-id-4 div.sk-serial {display: flex;flex-direction: column;align-items: center;background-color: white;padding-right: 0.2em;padding-left: 0.2em;position: relative;}#sk-container-id-4 div.sk-item {position: relative;z-index: 1;}#sk-container-id-4 div.sk-parallel {display: flex;align-items: stretch;justify-content: center;background-color: white;position: relative;}#sk-container-id-4 div.sk-item::before, #sk-container-id-4 div.sk-parallel-item::before {content: \"\";position: absolute;border-left: 1px solid gray;box-sizing: border-box;top: 0;bottom: 0;left: 50%;z-index: -1;}#sk-container-id-4 div.sk-parallel-item {display: flex;flex-direction: column;z-index: 1;position: relative;background-color: white;}#sk-container-id-4 div.sk-parallel-item:first-child::after {align-self: flex-end;width: 50%;}#sk-container-id-4 div.sk-parallel-item:last-child::after {align-self: flex-start;width: 50%;}#sk-container-id-4 div.sk-parallel-item:only-child::after {width: 0;}#sk-container-id-4 div.sk-dashed-wrapped {border: 1px dashed gray;margin: 0 0.4em 0.5em 0.4em;box-sizing: border-box;padding-bottom: 0.4em;background-color: white;}#sk-container-id-4 div.sk-label label {font-family: monospace;font-weight: bold;display: inline-block;line-height: 1.2em;}#sk-container-id-4 div.sk-label-container {text-align: center;}#sk-container-id-4 div.sk-container {/* jupyter's `normalize.less` sets `[hidden] { display: none; }` but bootstrap.min.css set `[hidden] { display: none !important; }` so we also need the `!important` here to be able to override the default hidden behavior on the sphinx rendered scikit-learn.org. See: https://github.com/scikit-learn/scikit-learn/issues/21755 */display: inline-block !important;position: relative;}#sk-container-id-4 div.sk-text-repr-fallback {display: none;}</style><div id=\"sk-container-id-4\" class=\"sk-top-container\"><div class=\"sk-text-repr-fallback\"><pre>SVC(kernel=&#x27;linear&#x27;, probability=True)</pre><b>In a Jupyter environment, please rerun this cell to show the HTML representation or trust the notebook. <br />On GitHub, the HTML representation is unable to render, please try loading this page with nbviewer.org.</b></div><div class=\"sk-container\" hidden><div class=\"sk-item\"><div class=\"sk-estimator sk-toggleable\"><input class=\"sk-toggleable__control sk-hidden--visually\" id=\"sk-estimator-id-4\" type=\"checkbox\" checked><label for=\"sk-estimator-id-4\" class=\"sk-toggleable__label sk-toggleable__label-arrow\">SVC</label><div class=\"sk-toggleable__content\"><pre>SVC(kernel=&#x27;linear&#x27;, probability=True)</pre></div></div></div></div></div>"
      ],
      "text/plain": [
       "SVC(kernel='linear', probability=True)"
      ]
     },
     "execution_count": 164,
     "metadata": {},
     "output_type": "execute_result"
    }
   ],
   "source": [
    "# to determine the model with the highest accuracy score\n",
    "highest_accuracy = max(accuracy_svc, accuracy_linear)\n",
    "for model in model_accuracy:\n",
    "  if (model_accuracy[model] == highest_accuracy):\n",
    "    best_model = model\n",
    "best_model"
   ]
  },
  {
   "attachments": {},
   "cell_type": "markdown",
   "metadata": {},
   "source": [
    "## Save Model"
   ]
  },
  {
   "cell_type": "code",
   "execution_count": 165,
   "metadata": {},
   "outputs": [],
   "source": [
    "def saveModel(model):\n",
    "  #set the file path to save the file, and also the filename to be saved\n",
    "  #the model is saved as .sav file\n",
    "  filepath = 'depression_indicator_model.sav'  # change to your own filepath\n",
    "\n",
    "  #save the model using pickle.dump\n",
    "  pickle.dump(model, open(filepath, 'wb'))\n",
    "     "
   ]
  },
  {
   "cell_type": "code",
   "execution_count": 166,
   "metadata": {},
   "outputs": [],
   "source": [
    "# save the model with higer accuracy score (in this case is svc)\n",
    "saveModel(best_model)"
   ]
  },
  {
   "attachments": {},
   "cell_type": "markdown",
   "metadata": {},
   "source": [
    "## Load Model"
   ]
  },
  {
   "cell_type": "code",
   "execution_count": 167,
   "metadata": {},
   "outputs": [],
   "source": [
    "def loadModel():\n",
    "  #get the file path and also the filename to be loaded\n",
    "  filepath = 'depression_indicator_model.sav'  # change to your own filepath\n",
    "\n",
    "  #load the model using pickel.load\n",
    "  loaded_model = pickle.load(open(filepath, 'rb'))\n",
    "  return loaded_model"
   ]
  },
  {
   "cell_type": "code",
   "execution_count": 168,
   "metadata": {},
   "outputs": [],
   "source": [
    "model = loadModel()"
   ]
  },
  {
   "attachments": {},
   "cell_type": "markdown",
   "metadata": {},
   "source": [
    "## Test Model"
   ]
  }
 ],
 "metadata": {
  "kernelspec": {
   "display_name": "Eipykernel",
   "language": "python",
   "name": "eipykernel"
  },
  "language_info": {
   "codemirror_mode": {
    "name": "ipython",
    "version": 3
   },
   "file_extension": ".py",
   "mimetype": "text/x-python",
   "name": "python",
   "nbconvert_exporter": "python",
   "pygments_lexer": "ipython3",
   "version": "3.10.9"
  },
  "orig_nbformat": 4
 },
 "nbformat": 4,
 "nbformat_minor": 2
}
